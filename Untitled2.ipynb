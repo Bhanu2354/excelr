{
  "nbformat": 4,
  "nbformat_minor": 0,
  "metadata": {
    "colab": {
      "provenance": []
    },
    "kernelspec": {
      "name": "python3",
      "display_name": "Python 3"
    },
    "language_info": {
      "name": "python"
    }
  },
  "cells": [
    {
      "cell_type": "code",
      "execution_count": 1,
      "metadata": {
        "colab": {
          "base_uri": "https://localhost:8080/"
        },
        "id": "iP5Fn7oF4Cj6",
        "outputId": "1eb60e18-816d-4fc2-9340-fd8d20832f8f"
      },
      "outputs": [
        {
          "output_type": "stream",
          "name": "stdout",
          "text": [
            "Integer variable: 10, Type: <class 'int'>\n",
            "Float variable: 20.5, Type: <class 'float'>\n",
            "String variable: Hello, World!, Type: <class 'str'>\n",
            "Boolean variable: True, Type: <class 'bool'>\n"
          ]
        }
      ],
      "source": [
        "# Declare variables of different data types\n",
        "int_variable = 10               # Integer\n",
        "float_variable = 20.5           # Float\n",
        "string_variable = \"Hello, World!\"  # String\n",
        "bool_variable = True            # Boolean\n",
        "\n",
        "# Print each variable and its type\n",
        "print(f\"Integer variable: {int_variable}, Type: {type(int_variable)}\")\n",
        "print(f\"Float variable: {float_variable}, Type: {type(float_variable)}\")\n",
        "print(f\"String variable: {string_variable}, Type: {type(string_variable)}\")\n",
        "print(f\"Boolean variable: {bool_variable}, Type: {type(bool_variable)}\")"
      ]
    }
  ]
}